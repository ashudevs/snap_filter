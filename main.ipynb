{
 "cells": [
  {
   "cell_type": "code",
   "execution_count": 1,
   "id": "b66d48a3",
   "metadata": {},
   "outputs": [],
   "source": [
    "import cv2 as cv2"
   ]
  },
  {
   "cell_type": "code",
   "execution_count": 2,
   "id": "2d39517e",
   "metadata": {},
   "outputs": [],
   "source": [
    "import cvzone"
   ]
  },
  {
   "cell_type": "code",
   "execution_count": 3,
   "id": "9004ed40",
   "metadata": {},
   "outputs": [],
   "source": [
    "cap = cv2.VideoCapture(0)\n",
    "cascade = cv2.CascadeClassifier('haarcascade_frontalface_default.xml')\n",
    "overlay = cv2.imread('pirate.png' , cv2.IMREAD_UNCHANGED)"
   ]
  },
  {
   "cell_type": "code",
   "execution_count": 5,
   "id": "a2755c68",
   "metadata": {},
   "outputs": [],
   "source": [
    "while True:\n",
    "    _,frame = cap.read()\n",
    "    gray_scale = cv2.cvtColor(frame , cv2.COLOR_BGR2GRAY)\n",
    "    faces = cascade.detectMultiScale(gray_scale)\n",
    "    for (x,y,w,h) in faces:\n",
    "        #cv2.rectangle(frame , (x,y) , (x+w,y+h) , (0,255,0) , 2)\n",
    "        overlay_resize = cv2.resize(overlay , (int(w*1.5),int(h*1.5)))\n",
    "        frame = cvzone.overlayPNG(frame , overlay_resize , [x-45,y-75])\n",
    "    cv2.imshow('snap_dude' , frame)\n",
    "    if cv2.waitKey(10)== ord('q'):\n",
    "        break\n",
    "    "
   ]
  },
  {
   "cell_type": "code",
   "execution_count": null,
   "id": "e268c00c",
   "metadata": {},
   "outputs": [],
   "source": []
  },
  {
   "cell_type": "code",
   "execution_count": null,
   "id": "d4c2923d",
   "metadata": {},
   "outputs": [],
   "source": []
  }
 ],
 "metadata": {
  "kernelspec": {
   "display_name": "Python 3",
   "language": "python",
   "name": "python3"
  },
  "language_info": {
   "codemirror_mode": {
    "name": "ipython",
    "version": 3
   },
   "file_extension": ".py",
   "mimetype": "text/x-python",
   "name": "python",
   "nbconvert_exporter": "python",
   "pygments_lexer": "ipython3",
   "version": "3.6.13"
  }
 },
 "nbformat": 4,
 "nbformat_minor": 5
}
